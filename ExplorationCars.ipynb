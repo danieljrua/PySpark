{
 "cells": [
  {
   "cell_type": "markdown",
   "id": "b19f5030-9871-454f-b49f-a52ebf62d90a",
   "metadata": {},
   "source": [
    "##  Proceso básico de exploración de datos con un conjunto de datos de carros.\n",
    "Los datos, fueron todamos desde[aquí](https://github.com/luise-marquezb/Pyspark/blob/main/cars.csv)í. La idea es hacer una análisis general básico e implementar algunas gráficas que ayuden a comprender un poco mejor la información.\n"
   ]
  },
  {
   "cell_type": "code",
   "execution_count": 1,
   "id": "9580851a-c10e-435d-b2fe-58408009e22b",
   "metadata": {},
   "outputs": [],
   "source": [
    "from pyspark.sql import SparkSession, SQLContext\n",
    "from pyspark.sql.types import IntegerType, StringType, StructField, StructType, DoubleType\n",
    "from pyspark.sql.functions import col, lit, monotonically_increasing_id, udf\n",
    "from pyspark.sql import functions as F\n",
    "import os\n",
    "import pandas as pd"
   ]
  },
  {
   "cell_type": "code",
   "execution_count": 2,
   "id": "0967b808-1308-4f05-9784-39418f8eec48",
   "metadata": {},
   "outputs": [],
   "source": [
    "import os\n",
    "import sys\n",
    "\n",
    "os.environ['PYSPARK_PYTHON'] = sys.executable\n",
    "os.environ['PYSPARK_DRIVER_PYTHON'] = sys.executable"
   ]
  },
  {
   "cell_type": "code",
   "execution_count": 3,
   "id": "58d3bd3e-2dd6-443d-98ae-99d7c6a0ffe4",
   "metadata": {
    "scrolled": true
   },
   "outputs": [
    {
     "data": {
      "text/html": [
       "\n",
       "            <div>\n",
       "                <p><b>SparkSession - in-memory</b></p>\n",
       "                \n",
       "        <div>\n",
       "            <p><b>SparkContext</b></p>\n",
       "\n",
       "            <p><a href=\"http://Daniel:4040\">Spark UI</a></p>\n",
       "\n",
       "            <dl>\n",
       "              <dt>Version</dt>\n",
       "                <dd><code>v3.5.0</code></dd>\n",
       "              <dt>Master</dt>\n",
       "                <dd><code>local[4]</code></dd>\n",
       "              <dt>AppName</dt>\n",
       "                <dd><code>BasicExploration</code></dd>\n",
       "            </dl>\n",
       "        </div>\n",
       "        \n",
       "            </div>\n",
       "        "
      ],
      "text/plain": [
       "<pyspark.sql.session.SparkSession at 0x13f74a2e710>"
      ]
     },
     "execution_count": 3,
     "metadata": {},
     "output_type": "execute_result"
    }
   ],
   "source": [
    "spark = SparkSession.builder.appName(\"BasicExploration\").config('spark.master', 'local[4]').config('spark.shuffle.sql.partitions', 1).getOrCreate()\n",
    "spark"
   ]
  },
  {
   "cell_type": "code",
   "execution_count": 4,
   "id": "d992ed2f-baaa-4c14-881e-b40b8cfc276c",
   "metadata": {},
   "outputs": [],
   "source": [
    "data_path = 'DataSets/cars.csv'"
   ]
  },
  {
   "cell_type": "code",
   "execution_count": 5,
   "id": "1a7a298e-02a1-49d4-863d-784033624202",
   "metadata": {},
   "outputs": [],
   "source": [
    "cars_df = spark.read.csv(data_path, sep=';', header=True)"
   ]
  },
  {
   "cell_type": "code",
   "execution_count": 6,
   "id": "57ec4f6c-aa86-4cdc-bc94-641836ef55ef",
   "metadata": {},
   "outputs": [
    {
     "name": "stdout",
     "output_type": "stream",
     "text": [
      "+-------------------------+------+---------+------------+----------+------+------------+-----+------+\n",
      "|Car                      |MPG   |Cylinders|Displacement|Horsepower|Weight|Acceleration|Model|Origin|\n",
      "+-------------------------+------+---------+------------+----------+------+------------+-----+------+\n",
      "|STRING                   |DOUBLE|INT      |DOUBLE      |DOUBLE    |DOUBLE|DOUBLE      |INT  |CAT   |\n",
      "|Chevrolet Chevelle Malibu|18.0  |8        |307.0       |130.0     |3504. |12.0        |70   |US    |\n",
      "|Buick Skylark 320        |15.0  |8        |350.0       |165.0     |3693. |11.5        |70   |US    |\n",
      "|Plymouth Satellite       |18.0  |8        |318.0       |150.0     |3436. |11.0        |70   |US    |\n",
      "|AMC Rebel SST            |16.0  |8        |304.0       |150.0     |3433. |12.0        |70   |US    |\n",
      "+-------------------------+------+---------+------------+----------+------+------------+-----+------+\n",
      "only showing top 5 rows\n",
      "\n"
     ]
    }
   ],
   "source": [
    "cars_df.show(5, truncate=False)"
   ]
  },
  {
   "cell_type": "markdown",
   "id": "d171255b-8a37-4e70-bdf9-69c62918dbdc",
   "metadata": {},
   "source": [
    "Agregamos un índice para identificar cada fila"
   ]
  },
  {
   "cell_type": "code",
   "execution_count": 7,
   "id": "da0ad8da-8656-48e6-a304-8dc8503a379c",
   "metadata": {
    "scrolled": true
   },
   "outputs": [
    {
     "name": "stdout",
     "output_type": "stream",
     "text": [
      "+-------------------------+------+---------+------------+----------+------+------------+-----+------+-----+\n",
      "|Car                      |MPG   |Cylinders|Displacement|Horsepower|Weight|Acceleration|Model|Origin|index|\n",
      "+-------------------------+------+---------+------------+----------+------+------------+-----+------+-----+\n",
      "|STRING                   |DOUBLE|INT      |DOUBLE      |DOUBLE    |DOUBLE|DOUBLE      |INT  |CAT   |0    |\n",
      "|Chevrolet Chevelle Malibu|18.0  |8        |307.0       |130.0     |3504. |12.0        |70   |US    |1    |\n",
      "|Buick Skylark 320        |15.0  |8        |350.0       |165.0     |3693. |11.5        |70   |US    |2    |\n",
      "|Plymouth Satellite       |18.0  |8        |318.0       |150.0     |3436. |11.0        |70   |US    |3    |\n",
      "|AMC Rebel SST            |16.0  |8        |304.0       |150.0     |3433. |12.0        |70   |US    |4    |\n",
      "+-------------------------+------+---------+------------+----------+------+------------+-----+------+-----+\n",
      "only showing top 5 rows\n",
      "\n"
     ]
    }
   ],
   "source": [
    "cars_df = cars_df.withColumn('index', monotonically_increasing_id())\n",
    "cars_df.show(5, truncate=False)"
   ]
  },
  {
   "cell_type": "markdown",
   "id": "e7e50ecc-1fb3-4060-b235-dd684f2b5d4b",
   "metadata": {},
   "source": [
    "Eliminamos la primera fila que es solo informativa"
   ]
  },
  {
   "cell_type": "code",
   "execution_count": 8,
   "id": "ba3605d4-ab24-4289-a9f7-da766565c4c9",
   "metadata": {
    "scrolled": true
   },
   "outputs": [
    {
     "name": "stdout",
     "output_type": "stream",
     "text": [
      "+-------------------------+----+---------+------------+----------+------+------------+-----+------+\n",
      "|Car                      |MPG |Cylinders|Displacement|Horsepower|Weight|Acceleration|Model|Origin|\n",
      "+-------------------------+----+---------+------------+----------+------+------------+-----+------+\n",
      "|Chevrolet Chevelle Malibu|18.0|8        |307.0       |130.0     |3504. |12.0        |70   |US    |\n",
      "|Buick Skylark 320        |15.0|8        |350.0       |165.0     |3693. |11.5        |70   |US    |\n",
      "|Plymouth Satellite       |18.0|8        |318.0       |150.0     |3436. |11.0        |70   |US    |\n",
      "|AMC Rebel SST            |16.0|8        |304.0       |150.0     |3433. |12.0        |70   |US    |\n",
      "|Ford Torino              |17.0|8        |302.0       |140.0     |3449. |10.5        |70   |US    |\n",
      "+-------------------------+----+---------+------------+----------+------+------------+-----+------+\n",
      "only showing top 5 rows\n",
      "\n"
     ]
    }
   ],
   "source": [
    "cars_df = cars_df.filter(~cars_df.index.isin([0]))\n",
    "cars_df = cars_df.drop('index')\n",
    "cars_df.show(5, truncate=False)"
   ]
  },
  {
   "cell_type": "markdown",
   "id": "b01c0bb4-3444-497e-881f-a07acc7efa08",
   "metadata": {},
   "source": [
    "Vemos que todas las columnas son de tipo string, por lo que necesitamos generar un esquema que defina el tipo correcto de cada columna."
   ]
  },
  {
   "cell_type": "code",
   "execution_count": 9,
   "id": "e278f19e-70a6-415c-9b32-1016bb4ce986",
   "metadata": {},
   "outputs": [
    {
     "name": "stdout",
     "output_type": "stream",
     "text": [
      "root\n",
      " |-- Car: string (nullable = true)\n",
      " |-- MPG: string (nullable = true)\n",
      " |-- Cylinders: string (nullable = true)\n",
      " |-- Displacement: string (nullable = true)\n",
      " |-- Horsepower: string (nullable = true)\n",
      " |-- Weight: string (nullable = true)\n",
      " |-- Acceleration: string (nullable = true)\n",
      " |-- Model: string (nullable = true)\n",
      " |-- Origin: string (nullable = true)\n",
      "\n"
     ]
    }
   ],
   "source": [
    "cars_df.printSchema()"
   ]
  },
  {
   "cell_type": "markdown",
   "id": "efbf2d57-977b-4078-a4ee-2c22ae91883e",
   "metadata": {},
   "source": [
    "Antes de modificar el esquema, debemos realizar una transformación en la columna _Weight_ pues esta no corresponde a valores de tipo *Double*"
   ]
  },
  {
   "cell_type": "code",
   "execution_count": 10,
   "id": "b07ced8b-e067-42e3-9c37-47eaadaa3e76",
   "metadata": {},
   "outputs": [
    {
     "name": "stdout",
     "output_type": "stream",
     "text": [
      "+--------------------+----+---------+------------+----------+------+------------+-----+------+\n",
      "|                 Car| MPG|Cylinders|Displacement|Horsepower|Weight|Acceleration|Model|Origin|\n",
      "+--------------------+----+---------+------------+----------+------+------------+-----+------+\n",
      "|Chevrolet Chevell...|18.0|        8|       307.0|     130.0|  3504|        12.0|   70|    US|\n",
      "|   Buick Skylark 320|15.0|        8|       350.0|     165.0|  3693|        11.5|   70|    US|\n",
      "|  Plymouth Satellite|18.0|        8|       318.0|     150.0|  3436|        11.0|   70|    US|\n",
      "|       AMC Rebel SST|16.0|        8|       304.0|     150.0|  3433|        12.0|   70|    US|\n",
      "|         Ford Torino|17.0|        8|       302.0|     140.0|  3449|        10.5|   70|    US|\n",
      "+--------------------+----+---------+------------+----------+------+------------+-----+------+\n",
      "only showing top 5 rows\n",
      "\n"
     ]
    }
   ],
   "source": [
    "cars_df = cars_df.withColumn('Weight', F.split('Weight', '\\.')[0].cast(IntegerType()))\n",
    "cars_df.show(5)"
   ]
  },
  {
   "cell_type": "code",
   "execution_count": 11,
   "id": "e5b453e2-7957-4ebc-ac3b-5ea30afb7ea7",
   "metadata": {
    "scrolled": true
   },
   "outputs": [
    {
     "name": "stdout",
     "output_type": "stream",
     "text": [
      "+-------------------------+----+---------+------------+----------+------+------------+-----+------+\n",
      "|Car                      |MPG |Cylinders|Displacement|Horsepower|Weight|Acceleration|Model|Origin|\n",
      "+-------------------------+----+---------+------------+----------+------+------------+-----+------+\n",
      "|Chevrolet Chevelle Malibu|18.0|8        |307.0       |130.0     |3504  |12.0        |70   |US    |\n",
      "|Buick Skylark 320        |15.0|8        |350.0       |165.0     |3693  |11.5        |70   |US    |\n",
      "|Plymouth Satellite       |18.0|8        |318.0       |150.0     |3436  |11.0        |70   |US    |\n",
      "|AMC Rebel SST            |16.0|8        |304.0       |150.0     |3433  |12.0        |70   |US    |\n",
      "|Ford Torino              |17.0|8        |302.0       |140.0     |3449  |10.5        |70   |US    |\n",
      "|Ford Galaxie 500         |15.0|8        |429.0       |198.0     |4341  |10.0        |70   |US    |\n",
      "|Chevrolet Impala         |14.0|8        |454.0       |220.0     |4354  |9.0         |70   |US    |\n",
      "|Plymouth Fury iii        |14.0|8        |440.0       |215.0     |4312  |8.5         |70   |US    |\n",
      "|Pontiac Catalina         |14.0|8        |455.0       |225.0     |4425  |10.0        |70   |US    |\n",
      "|AMC Ambassador DPL       |15.0|8        |390.0       |190.0     |3850  |8.5         |70   |US    |\n",
      "+-------------------------+----+---------+------------+----------+------+------------+-----+------+\n",
      "only showing top 10 rows\n",
      "\n"
     ]
    }
   ],
   "source": [
    "cars_df.show(10, truncate=False)"
   ]
  },
  {
   "cell_type": "code",
   "execution_count": 12,
   "id": "c9e203aa-2154-47b6-872c-e4f7b6375b6e",
   "metadata": {},
   "outputs": [],
   "source": [
    "cars_df = cars_df.withColumn(\"Car\", col(\"Car\").cast(StringType()))\n",
    "cars_df = cars_df.withColumn(\"MPG\", col(\"MPG\").cast(DoubleType()))\n",
    "cars_df = cars_df.withColumn(\"Cylinders\", col(\"Cylinders\").cast(IntegerType()))\n",
    "cars_df = cars_df.withColumn(\"Displacement\", col(\"Displacement\").cast(DoubleType()))\n",
    "cars_df = cars_df.withColumn(\"Horsepower\", col(\"Horsepower\").cast(DoubleType()))\n",
    "cars_df = cars_df.withColumn(\"Weight\", col(\"Weight\").cast(IntegerType()))\n",
    "cars_df = cars_df.withColumn(\"Acceleration\", col(\"Acceleration\").cast(DoubleType()))\n",
    "cars_df = cars_df.withColumn(\"Model\", col(\"Model\").cast(IntegerType()))\n",
    "cars_df = cars_df.withColumn(\"Origin\", col(\"Origin\").cast(StringType()))"
   ]
  },
  {
   "cell_type": "code",
   "execution_count": 13,
   "id": "7f4de3a3-99a0-4d61-a983-59de9b565997",
   "metadata": {},
   "outputs": [
    {
     "name": "stdout",
     "output_type": "stream",
     "text": [
      "root\n",
      " |-- Car: string (nullable = true)\n",
      " |-- MPG: double (nullable = true)\n",
      " |-- Cylinders: integer (nullable = true)\n",
      " |-- Displacement: double (nullable = true)\n",
      " |-- Horsepower: double (nullable = true)\n",
      " |-- Weight: integer (nullable = true)\n",
      " |-- Acceleration: double (nullable = true)\n",
      " |-- Model: integer (nullable = true)\n",
      " |-- Origin: string (nullable = true)\n",
      "\n"
     ]
    }
   ],
   "source": [
    "cars_df.printSchema()"
   ]
  },
  {
   "cell_type": "code",
   "execution_count": 14,
   "id": "f516ab2b-4fa6-41a8-901b-a939d750338c",
   "metadata": {},
   "outputs": [
    {
     "name": "stdout",
     "output_type": "stream",
     "text": [
      "+-------------------------+----+---------+------------+----------+------+------------+-----+------+\n",
      "|Car                      |MPG |Cylinders|Displacement|Horsepower|Weight|Acceleration|Model|Origin|\n",
      "+-------------------------+----+---------+------------+----------+------+------------+-----+------+\n",
      "|Chevrolet Chevelle Malibu|18.0|8        |307.0       |130.0     |3504  |12.0        |70   |US    |\n",
      "|Buick Skylark 320        |15.0|8        |350.0       |165.0     |3693  |11.5        |70   |US    |\n",
      "|Plymouth Satellite       |18.0|8        |318.0       |150.0     |3436  |11.0        |70   |US    |\n",
      "|AMC Rebel SST            |16.0|8        |304.0       |150.0     |3433  |12.0        |70   |US    |\n",
      "|Ford Torino              |17.0|8        |302.0       |140.0     |3449  |10.5        |70   |US    |\n",
      "|Ford Galaxie 500         |15.0|8        |429.0       |198.0     |4341  |10.0        |70   |US    |\n",
      "|Chevrolet Impala         |14.0|8        |454.0       |220.0     |4354  |9.0         |70   |US    |\n",
      "|Plymouth Fury iii        |14.0|8        |440.0       |215.0     |4312  |8.5         |70   |US    |\n",
      "|Pontiac Catalina         |14.0|8        |455.0       |225.0     |4425  |10.0        |70   |US    |\n",
      "|AMC Ambassador DPL       |15.0|8        |390.0       |190.0     |3850  |8.5         |70   |US    |\n",
      "+-------------------------+----+---------+------------+----------+------+------------+-----+------+\n",
      "only showing top 10 rows\n",
      "\n"
     ]
    }
   ],
   "source": [
    "cars_df.show(10, truncate=False)"
   ]
  },
  {
   "cell_type": "code",
   "execution_count": 47,
   "id": "ee874ef9-22bd-4181-8220-22cf6ec9a1c0",
   "metadata": {},
   "outputs": [],
   "source": [
    "cylinders = cars_df.groupBy('Cylinders').count().sort('Cylinders')\n",
    "cylinders_pd_df = cylinders.toPandas()\n",
    "cylinders_pd_df = cylinders_pd_df.set_index('Cylinders')"
   ]
  },
  {
   "cell_type": "code",
   "execution_count": 53,
   "id": "2d9519c6-8e9c-43ba-8b61-5c2a83d7a6c1",
   "metadata": {},
   "outputs": [
    {
     "data": {
      "text/html": [
       "<div>\n",
       "<style scoped>\n",
       "    .dataframe tbody tr th:only-of-type {\n",
       "        vertical-align: middle;\n",
       "    }\n",
       "\n",
       "    .dataframe tbody tr th {\n",
       "        vertical-align: top;\n",
       "    }\n",
       "\n",
       "    .dataframe thead th {\n",
       "        text-align: right;\n",
       "    }\n",
       "</style>\n",
       "<table border=\"1\" class=\"dataframe\">\n",
       "  <thead>\n",
       "    <tr style=\"text-align: right;\">\n",
       "      <th></th>\n",
       "      <th>count</th>\n",
       "    </tr>\n",
       "    <tr>\n",
       "      <th>Cylinders</th>\n",
       "      <th></th>\n",
       "    </tr>\n",
       "  </thead>\n",
       "  <tbody>\n",
       "    <tr>\n",
       "      <th>3</th>\n",
       "      <td>4</td>\n",
       "    </tr>\n",
       "    <tr>\n",
       "      <th>4</th>\n",
       "      <td>207</td>\n",
       "    </tr>\n",
       "    <tr>\n",
       "      <th>5</th>\n",
       "      <td>3</td>\n",
       "    </tr>\n",
       "    <tr>\n",
       "      <th>6</th>\n",
       "      <td>84</td>\n",
       "    </tr>\n",
       "    <tr>\n",
       "      <th>8</th>\n",
       "      <td>108</td>\n",
       "    </tr>\n",
       "  </tbody>\n",
       "</table>\n",
       "</div>"
      ],
      "text/plain": [
       "           count\n",
       "Cylinders       \n",
       "3              4\n",
       "4            207\n",
       "5              3\n",
       "6             84\n",
       "8            108"
      ]
     },
     "execution_count": 53,
     "metadata": {},
     "output_type": "execute_result"
    }
   ],
   "source": [
    "cylinders_pd_df#.sort_values(by='count', ascending=True)"
   ]
  },
  {
   "cell_type": "code",
   "execution_count": 50,
   "id": "acca1646-c5db-4406-8233-30f8df852f1d",
   "metadata": {},
   "outputs": [
    {
     "data": {
      "image/png": "[encoded data removed]",
      "text/plain": [
       "<Figure size 1100x600 with 1 Axes>"
      ]
     },
     "metadata": {},
     "output_type": "display_data"
    }
   ],
   "source": [
    "cylinders_pd_df.plot.pie(y='count' ,figsize=(11, 6));"
   ]
  },
  {
   "cell_type": "code",
   "execution_count": 17,
   "id": "b82c1d2d-4999-487b-ad94-1b3b87057c76",
   "metadata": {
    "scrolled": true
   },
   "outputs": [],
   "source": [
    "models = cars_df.groupBy('Model').count().sort('Model')\n",
    "models_pd_df = models.toPandas()"
   ]
  },
  {
   "cell_type": "code",
   "execution_count": 18,
   "id": "40870aea-4c6b-4e38-98e9-588bb1876a2a",
   "metadata": {
    "scrolled": true
   },
   "outputs": [
    {
     "data": {
      "image/png": "[encoded data removed]",
      "text/plain": [
       "<Figure size 640x480 with 1 Axes>"
      ]
     },
     "metadata": {},
     "output_type": "display_data"
    }
   ],
   "source": [
    "ax = models_pd_df.plot.bar(x='Model', y='count', rot=0, color={\"navy\"})"
   ]
  },
  {
   "cell_type": "code",
   "execution_count": 19,
   "id": "e5565ebb-07fb-459b-b185-1123e272eed8",
   "metadata": {
    "scrolled": true
   },
   "outputs": [
    {
     "name": "stdout",
     "output_type": "stream",
     "text": [
      "+------+-----+\n",
      "|Origin|count|\n",
      "+------+-----+\n",
      "|Europe|   73|\n",
      "|    US|  254|\n",
      "| Japan|   79|\n",
      "+------+-----+\n",
      "\n"
     ]
    }
   ],
   "source": [
    "origin = cars_df.groupBy('Origin').count()\n",
    "origin.show()"
   ]
  },
  {
   "cell_type": "code",
   "execution_count": 20,
   "id": "36dd3932-ac6e-4b09-953c-dfd8099536a1",
   "metadata": {},
   "outputs": [
    {
     "data": {
      "image/png": "[encoded data removed]",
      "text/plain": [
       "<Figure size 640x480 with 1 Axes>"
      ]
     },
     "metadata": {},
     "output_type": "display_data"
    }
   ],
   "source": [
    "origin_pd_df = origin.toPandas()\n",
    "ax = origin_pd_df.plot.barh(x='Origin', y='count', rot=0, color={\"navy\"})"
   ]
  },
  {
   "cell_type": "code",
   "execution_count": 21,
   "id": "6eef92dd-242e-43dc-ab49-e61096a18fef",
   "metadata": {},
   "outputs": [],
   "source": [
    "import findspark\n",
    "findspark.init()"
   ]
  },
  {
   "cell_type": "code",
   "execution_count": 22,
   "id": "5871b73f-0116-4d81-887f-7c5dd8f59174",
   "metadata": {},
   "outputs": [
    {
     "name": "stdout",
     "output_type": "stream",
     "text": [
      "+--------------------+----+---------+------------+----------+------+------------+-----+------+\n",
      "|                 Car| MPG|Cylinders|Displacement|Horsepower|Weight|Acceleration|Model|Origin|\n",
      "+--------------------+----+---------+------------+----------+------+------------+-----+------+\n",
      "|Chevrolet Chevell...|18.0|        8|       307.0|     130.0|  3504|        12.0|   70|    US|\n",
      "|   Buick Skylark 320|15.0|        8|       350.0|     165.0|  3693|        11.5|   70|    US|\n",
      "+--------------------+----+---------+------------+----------+------+------------+-----+------+\n",
      "only showing top 2 rows\n",
      "\n"
     ]
    }
   ],
   "source": [
    "cars_df.show(2)"
   ]
  },
  {
   "cell_type": "code",
   "execution_count": 23,
   "id": "f0bbdadd-f53a-41c7-8013-e5bdef13d242",
   "metadata": {},
   "outputs": [],
   "source": [
    "horsepower_1 = cars_df.filter(F.col('Horsepower') <= 50).select('Horsepower').count()\n",
    "horsepower_2 = cars_df.filter( (F.col('Horsepower') > 50) & (F.col('Horsepower') <= 100) ).select('Horsepower').count()\n",
    "horsepower_3 = cars_df.filter( (F.col('Horsepower') > 100) & (F.col('Horsepower') <= 150) ).select('Horsepower').count()\n",
    "horsepower_4 = cars_df.filter( (F.col('Horsepower') > 150) & (F.col('Horsepower') <= 200) ).select('Horsepower').count()\n",
    "horsepower_5 = cars_df.filter( (F.col('Horsepower') > 200) ).select('Horsepower').count()\n"
   ]
  },
  {
   "cell_type": "code",
   "execution_count": 24,
   "id": "efcb019b-dd2b-4b6d-8f2a-447e38658ff5",
   "metadata": {},
   "outputs": [
    {
     "data": {
      "text/plain": [
       "(13, 236, 108, 39, 10)"
      ]
     },
     "execution_count": 24,
     "metadata": {},
     "output_type": "execute_result"
    }
   ],
   "source": [
    "horsepower_1, horsepower_2, horsepower_3, horsepower_4, horsepower_5"
   ]
  },
  {
   "cell_type": "code",
   "execution_count": 26,
   "id": "1b65cdec-e925-4908-b23f-cfd1ad3c0293",
   "metadata": {
    "scrolled": true
   },
   "outputs": [
    {
     "data": {
      "image/png": "[encoded data removed]",
      "text/plain": [
       "<Figure size 800x800 with 1 Axes>"
      ]
     },
     "metadata": {},
     "output_type": "display_data"
    }
   ],
   "source": [
    "horsepower_df = pd.DataFrame(\n",
    "    {'count': [horsepower_1, \n",
    "               horsepower_2, \n",
    "               horsepower_3, \n",
    "               horsepower_4, \n",
    "               horsepower_5]},\n",
    "    index = ['\"<50\"', \n",
    "             '\"50 - 100\"', \n",
    "             '\"100 - 150\"', \n",
    "             '\"150-200\"', \n",
    "             '\">200\"']\n",
    ")\n",
    "\n",
    "plot = horsepower_df.plot.pie(y='count', \n",
    "                              figsize=(8, 8),\n",
    "                              colormap='jet',\n",
    "                              title='Proportions of horsepower in all cars'\n",
    "                             )"
   ]
  },
  {
   "cell_type": "markdown",
   "id": "0e501430-7a06-4ce5-8720-3290551b0b91",
   "metadata": {},
   "source": [
    "# "
   ]
  },
  {
   "cell_type": "markdown",
   "id": "60868957-083c-4079-9c99-bb79ebfcbb6d",
   "metadata": {},
   "source": [
    "## Nota:\n",
    "Es posible transformar filas del dataframe mediante udf functions. Basta con definir la función de manera natural y luego mapearla mediante Functions.udf.\n",
    "Con este método, la última agregación sería mucho más sencilla."
   ]
  },
  {
   "cell_type": "code",
   "execution_count": 27,
   "id": "0805075d-cdf3-47b7-9a02-2956d0ab1b8b",
   "metadata": {},
   "outputs": [],
   "source": [
    "def get_category_horsepower(horsepower):\n",
    "    try:\n",
    "        if horsepower < 50:\n",
    "            return \"Menor a 50\"\n",
    "        if horsepower >= 50 and horsepower < 100:\n",
    "            return \"50 - 100\"\n",
    "        if horsepower >= 100 and horsepower < 150:\n",
    "            return \"100 - 150\"\n",
    "        if horsepower >= 150 and horsepower < 200:\n",
    "            return \"150 - 200\"\n",
    "        else:\n",
    "            return \"Mayor a 200\"\n",
    "    except:\n",
    "        return \"error\"\n"
   ]
  },
  {
   "cell_type": "code",
   "execution_count": 29,
   "id": "64adf137-185d-4702-adcc-e2abd628cd82",
   "metadata": {},
   "outputs": [],
   "source": [
    "from pyspark.errors import PySparkException\n",
    "\n",
    "category_horsepower_udf = F.udf(get_category_horsepower, StringType())\n",
    "try:\n",
    "    horsepower_category_df = cars_df.withColumn(\"Horsepower_Cat\", category_horsepower_udf(col(\"Horsepower\")))\n",
    "except PySparkException as err:\n",
    "    print(str(err))"
   ]
  },
  {
   "cell_type": "code",
   "execution_count": 30,
   "id": "670fa538-0f3d-4902-ac14-56991b3e89ef",
   "metadata": {},
   "outputs": [
    {
     "name": "stdout",
     "output_type": "stream",
     "text": [
      "+--------------------+----+---------+------------+----------+------+------------+-----+------+--------------+\n",
      "|                 Car| MPG|Cylinders|Displacement|Horsepower|Weight|Acceleration|Model|Origin|Horsepower_Cat|\n",
      "+--------------------+----+---------+------------+----------+------+------------+-----+------+--------------+\n",
      "|Chevrolet Chevell...|18.0|        8|       307.0|     130.0|  3504|        12.0|   70|    US|     100 - 150|\n",
      "|   Buick Skylark 320|15.0|        8|       350.0|     165.0|  3693|        11.5|   70|    US|     150 - 200|\n",
      "|  Plymouth Satellite|18.0|        8|       318.0|     150.0|  3436|        11.0|   70|    US|     150 - 200|\n",
      "|       AMC Rebel SST|16.0|        8|       304.0|     150.0|  3433|        12.0|   70|    US|     150 - 200|\n",
      "|         Ford Torino|17.0|        8|       302.0|     140.0|  3449|        10.5|   70|    US|     100 - 150|\n",
      "|    Ford Galaxie 500|15.0|        8|       429.0|     198.0|  4341|        10.0|   70|    US|     150 - 200|\n",
      "|    Chevrolet Impala|14.0|        8|       454.0|     220.0|  4354|         9.0|   70|    US|   Mayor a 200|\n",
      "|   Plymouth Fury iii|14.0|        8|       440.0|     215.0|  4312|         8.5|   70|    US|   Mayor a 200|\n",
      "|    Pontiac Catalina|14.0|        8|       455.0|     225.0|  4425|        10.0|   70|    US|   Mayor a 200|\n",
      "|  AMC Ambassador DPL|15.0|        8|       390.0|     190.0|  3850|         8.5|   70|    US|     150 - 200|\n",
      "|Citroen DS-21 Pallas| 0.0|        4|       133.0|     115.0|  3090|        17.5|   70|Europe|     100 - 150|\n",
      "|Chevrolet Chevell...| 0.0|        8|       350.0|     165.0|  4142|        11.5|   70|    US|     150 - 200|\n",
      "|    Ford Torino (sw)| 0.0|        8|       351.0|     153.0|  4034|        11.0|   70|    US|     150 - 200|\n",
      "|Plymouth Satellit...| 0.0|        8|       383.0|     175.0|  4166|        10.5|   70|    US|     150 - 200|\n",
      "|  AMC Rebel SST (sw)| 0.0|        8|       360.0|     175.0|  3850|        11.0|   70|    US|     150 - 200|\n",
      "| Dodge Challenger SE|15.0|        8|       383.0|     170.0|  3563|        10.0|   70|    US|     150 - 200|\n",
      "|  Plymouth 'Cuda 340|14.0|        8|       340.0|     160.0|  3609|         8.0|   70|    US|     150 - 200|\n",
      "|Ford Mustang Boss...| 0.0|        8|       302.0|     140.0|  3353|         8.0|   70|    US|     100 - 150|\n",
      "|Chevrolet Monte C...|15.0|        8|       400.0|     150.0|  3761|         9.5|   70|    US|     150 - 200|\n",
      "|Buick Estate Wago...|14.0|        8|       455.0|     225.0|  3086|        10.0|   70|    US|   Mayor a 200|\n",
      "+--------------------+----+---------+------------+----------+------+------------+-----+------+--------------+\n",
      "only showing top 20 rows\n",
      "\n"
     ]
    }
   ],
   "source": [
    "horsepower_category_df.show()"
   ]
  },
  {
   "cell_type": "code",
   "execution_count": 54,
   "id": "980472fe-faf5-4e3b-8f86-fb54af641df7",
   "metadata": {},
   "outputs": [],
   "source": [
    "horsepower = horsepower_category_df.groupBy('Horsepower_Cat').count().sort('count')\n",
    "horsepower_category_pd_df = horsepower.toPandas()\n",
    "horsepower_category_pd_df = horsepower_category_pd_df.set_index('Horsepower_Cat')"
   ]
  },
  {
   "cell_type": "code",
   "execution_count": 55,
   "id": "02374e6f-e841-4f08-a203-e1d51125b4f3",
   "metadata": {},
   "outputs": [
    {
     "data": {
      "text/html": [
       "<div>\n",
       "<style scoped>\n",
       "    .dataframe tbody tr th:only-of-type {\n",
       "        vertical-align: middle;\n",
       "    }\n",
       "\n",
       "    .dataframe tbody tr th {\n",
       "        vertical-align: top;\n",
       "    }\n",
       "\n",
       "    .dataframe thead th {\n",
       "        text-align: right;\n",
       "    }\n",
       "</style>\n",
       "<table border=\"1\" class=\"dataframe\">\n",
       "  <thead>\n",
       "    <tr style=\"text-align: right;\">\n",
       "      <th></th>\n",
       "      <th>count</th>\n",
       "    </tr>\n",
       "    <tr>\n",
       "      <th>Horsepower_Cat</th>\n",
       "      <th></th>\n",
       "    </tr>\n",
       "  </thead>\n",
       "  <tbody>\n",
       "    <tr>\n",
       "      <th>Mayor a 200</th>\n",
       "      <td>11</td>\n",
       "    </tr>\n",
       "    <tr>\n",
       "      <th>Menor a 50</th>\n",
       "      <td>13</td>\n",
       "    </tr>\n",
       "    <tr>\n",
       "      <th>150 - 200</th>\n",
       "      <td>60</td>\n",
       "    </tr>\n",
       "    <tr>\n",
       "      <th>100 - 150</th>\n",
       "      <td>103</td>\n",
       "    </tr>\n",
       "    <tr>\n",
       "      <th>50 - 100</th>\n",
       "      <td>219</td>\n",
       "    </tr>\n",
       "  </tbody>\n",
       "</table>\n",
       "</div>"
      ],
      "text/plain": [
       "                count\n",
       "Horsepower_Cat       \n",
       "Mayor a 200        11\n",
       "Menor a 50         13\n",
       "150 - 200          60\n",
       "100 - 150         103\n",
       "50 - 100          219"
      ]
     },
     "execution_count": 55,
     "metadata": {},
     "output_type": "execute_result"
    }
   ],
   "source": [
    "horsepower_category_pd_df"
   ]
  },
  {
   "cell_type": "code",
   "execution_count": 63,
   "id": "92f6e831-0b13-4569-87de-a3739e48b26f",
   "metadata": {},
   "outputs": [
    {
     "data": {
      "image/png": "[encoded data removed]",
      "text/plain": [
       "<Figure size 1000x1000 with 1 Axes>"
      ]
     },
     "metadata": {},
     "output_type": "display_data"
    }
   ],
   "source": [
    "horsepower_category_pd_df.plot.pie(y='count', figsize=(10, 10));"
   ]
  }
 ],
 "metadata": {
  "kernelspec": {
   "display_name": "Python 3 (ipykernel)",
   "language": "python",
   "name": "python3"
  },
  "language_info": {
   "codemirror_mode": {
    "name": "ipython",
    "version": 3
   },
   "file_extension": ".py",
   "mimetype": "text/x-python",
   "name": "python",
   "nbconvert_exporter": "python",
   "pygments_lexer": "ipython3",
   "version": "3.11.7"
  }
 },
 "nbformat": 4,
 "nbformat_minor": 5
}
