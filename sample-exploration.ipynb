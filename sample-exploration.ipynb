{
 "cells": [
  {
   "cell_type": "code",
   "execution_count": 92,
   "id": "1667ef78-e825-4dbe-9767-156a2b8a237d",
   "metadata": {},
   "outputs": [],
   "source": [
    "from pyspark.sql import SparkSession, SQLContext\n",
    "from pyspark.sql.types import IntegerType, StringType, StructField, StructType, DoubleType\n",
    "from pyspark.sql.functions import col, lit\n",
    "\n",
    "import pandas as pd\n",
    "from pandas import DataFrame\n",
    "import matplotlib\n",
    "\n",
    "import os"
   ]
  },
  {
   "cell_type": "code",
   "execution_count": 3,
   "id": "ee53332e-708b-4f27-b0e4-1c405f9d7cad",
   "metadata": {},
   "outputs": [],
   "source": [
    "%config IPCompleter.greedy=True"
   ]
  },
  {
   "cell_type": "code",
   "execution_count": 4,
   "id": "11fcc6cf-c794-4756-abc9-f50b3b86815a",
   "metadata": {},
   "outputs": [
    {
     "data": {
      "text/html": [
       "\n",
       "            <div>\n",
       "                <p><b>SparkSession - in-memory</b></p>\n",
       "                \n",
       "        <div>\n",
       "            <p><b>SparkContext</b></p>\n",
       "\n",
       "            <p><a href=\"http://Daniel:4040\">Spark UI</a></p>\n",
       "\n",
       "            <dl>\n",
       "              <dt>Version</dt>\n",
       "                <dd><code>v3.5.0</code></dd>\n",
       "              <dt>Master</dt>\n",
       "                <dd><code>local[4]</code></dd>\n",
       "              <dt>AppName</dt>\n",
       "                <dd><code>BasicETL</code></dd>\n",
       "            </dl>\n",
       "        </div>\n",
       "        \n",
       "            </div>\n",
       "        "
      ],
      "text/plain": [
       "<pyspark.sql.session.SparkSession at 0x237d12e2190>"
      ]
     },
     "execution_count": 4,
     "metadata": {},
     "output_type": "execute_result"
    }
   ],
   "source": [
    "spark = SparkSession.builder.appName(\"BasicETL\").config('spark.master', 'local[4]').config('spark.shuffle.sql.partitions', 1).getOrCreate()\n",
    "spark"
   ]
  },
  {
   "cell_type": "code",
   "execution_count": 5,
   "id": "7230a4fa-e9cd-47e7-9287-b88376feeb23",
   "metadata": {},
   "outputs": [
    {
     "data": {
      "text/plain": [
       "['archive', 'archive.zip', 'business.csv', 'parquet_example.parquet']"
      ]
     },
     "execution_count": 5,
     "metadata": {},
     "output_type": "execute_result"
    }
   ],
   "source": [
    "data_path = 'DataSets/'\n",
    "os.listdir(data_path)"
   ]
  },
  {
   "cell_type": "code",
   "execution_count": 6,
   "id": "f3ea4b7f-ba98-4f47-ad9d-ec8b5965d633",
   "metadata": {},
   "outputs": [
    {
     "data": {
      "text/plain": [
       "1936"
      ]
     },
     "execution_count": 6,
     "metadata": {},
     "output_type": "execute_result"
    }
   ],
   "source": [
    "df = spark.read.csv('DataSets/business.csv', sep=',', header=True)\n",
    "df.count()"
   ]
  },
  {
   "cell_type": "code",
   "execution_count": 7,
   "id": "d3f2e76d-4d0f-45ee-8f66-0c9d7102d6df",
   "metadata": {},
   "outputs": [
    {
     "name": "stdout",
     "output_type": "stream",
     "text": [
      "+----------------+-------+----------+----------+------+-------+---------+--------------------+--------------------+--------------------+--------------------+--------------+--------------+--------------+\n",
      "|Series_reference| Period|Data_value|Suppressed|STATUS|  UNITS|Magnitude|             Subject|               Group|      Series_title_1|      Series_title_2|Series_title_3|Series_title_4|Series_title_5|\n",
      "+----------------+-------+----------+----------+------+-------+---------+--------------------+--------------------+--------------------+--------------------+--------------+--------------+--------------+\n",
      "|   BDCQ.SF1AA2CA|2016.06|  1116.386|      NULL|     F|Dollars|        6|Business Data Col...|Industry by finan...|Sales (operating ...|Forestry and Logging|Current prices|    Unadjusted|          NULL|\n",
      "|   BDCQ.SF1AA2CA|2016.09|  1070.874|      NULL|     F|Dollars|        6|Business Data Col...|Industry by finan...|Sales (operating ...|Forestry and Logging|Current prices|    Unadjusted|          NULL|\n",
      "|   BDCQ.SF1AA2CA|2016.12|  1054.408|      NULL|     F|Dollars|        6|Business Data Col...|Industry by finan...|Sales (operating ...|Forestry and Logging|Current prices|    Unadjusted|          NULL|\n",
      "|   BDCQ.SF1AA2CA|2017.03|  1010.665|      NULL|     F|Dollars|        6|Business Data Col...|Industry by finan...|Sales (operating ...|Forestry and Logging|Current prices|    Unadjusted|          NULL|\n",
      "|   BDCQ.SF1AA2CA|2017.06|    1233.7|      NULL|     F|Dollars|        6|Business Data Col...|Industry by finan...|Sales (operating ...|Forestry and Logging|Current prices|    Unadjusted|          NULL|\n",
      "+----------------+-------+----------+----------+------+-------+---------+--------------------+--------------------+--------------------+--------------------+--------------+--------------+--------------+\n",
      "only showing top 5 rows\n",
      "\n"
     ]
    }
   ],
   "source": [
    "df.show(5)"
   ]
  },
  {
   "cell_type": "code",
   "execution_count": 8,
   "id": "9b874e95-cef1-461f-b5da-9c82fbf319e7",
   "metadata": {},
   "outputs": [
    {
     "name": "stdout",
     "output_type": "stream",
     "text": [
      "root\n",
      " |-- Series_reference: string (nullable = true)\n",
      " |-- Period: string (nullable = true)\n",
      " |-- Data_value: string (nullable = true)\n",
      " |-- Suppressed: string (nullable = true)\n",
      " |-- STATUS: string (nullable = true)\n",
      " |-- UNITS: string (nullable = true)\n",
      " |-- Magnitude: string (nullable = true)\n",
      " |-- Subject: string (nullable = true)\n",
      " |-- Group: string (nullable = true)\n",
      " |-- Series_title_1: string (nullable = true)\n",
      " |-- Series_title_2: string (nullable = true)\n",
      " |-- Series_title_3: string (nullable = true)\n",
      " |-- Series_title_4: string (nullable = true)\n",
      " |-- Series_title_5: string (nullable = true)\n",
      "\n"
     ]
    }
   ],
   "source": [
    "df.printSchema()"
   ]
  },
  {
   "cell_type": "code",
   "execution_count": 9,
   "id": "763822af-dac8-4c7f-8ef4-069152538a76",
   "metadata": {},
   "outputs": [],
   "source": [
    "sel_cols = ['Series_title_1', 'Series_title_2', 'Series_title_3', 'Series_title_4', 'Series_title_5']"
   ]
  },
  {
   "cell_type": "code",
   "execution_count": 10,
   "id": "6212de76-aef5-43fa-b765-9a6f836f1b9d",
   "metadata": {
    "scrolled": true
   },
   "outputs": [
    {
     "name": "stdout",
     "output_type": "stream",
     "text": [
      "+--------------------+--------------------+--------------+--------------+--------------+\n",
      "|      Series_title_1|      Series_title_2|Series_title_3|Series_title_4|Series_title_5|\n",
      "+--------------------+--------------------+--------------+--------------+--------------+\n",
      "|Sales (operating ...|Forestry and Logging|Current prices|    Unadjusted|          NULL|\n",
      "|Sales (operating ...|Forestry and Logging|Current prices|    Unadjusted|          NULL|\n",
      "|Sales (operating ...|Forestry and Logging|Current prices|    Unadjusted|          NULL|\n",
      "|Sales (operating ...|Forestry and Logging|Current prices|    Unadjusted|          NULL|\n",
      "|Sales (operating ...|Forestry and Logging|Current prices|    Unadjusted|          NULL|\n",
      "+--------------------+--------------------+--------------+--------------+--------------+\n",
      "only showing top 5 rows\n",
      "\n"
     ]
    }
   ],
   "source": [
    "df_sel = df.select(sel_cols)\n",
    "df_sel.show(5)"
   ]
  },
  {
   "cell_type": "code",
   "execution_count": 11,
   "id": "64e64bbf-f000-4c66-a60e-e6996199d928",
   "metadata": {
    "scrolled": true
   },
   "outputs": [
    {
     "name": "stdout",
     "output_type": "stream",
     "text": [
      "+--------------------+--------------------+--------------+--------------+--------------+\n",
      "|      Series_title_1|      Series_title_2|Series_title_3|Series_title_4|Series_title_5|\n",
      "+--------------------+--------------------+--------------+--------------+--------------+\n",
      "|Sales (operating ...|Forestry and Logging|Current prices|    Unadjusted|          NULL|\n",
      "|Sales (operating ...|Forestry and Logging|Current prices|    Unadjusted|          NULL|\n",
      "|Sales (operating ...|Forestry and Logging|Current prices|    Unadjusted|          NULL|\n",
      "|Sales (operating ...|Forestry and Logging|Current prices|    Unadjusted|          NULL|\n",
      "|Sales (operating ...|Forestry and Logging|Current prices|    Unadjusted|          NULL|\n",
      "+--------------------+--------------------+--------------+--------------+--------------+\n",
      "only showing top 5 rows\n",
      "\n"
     ]
    }
   ],
   "source": [
    "df[sel_cols].show(5)"
   ]
  },
  {
   "cell_type": "code",
   "execution_count": 12,
   "id": "8fd78c60-87d0-4cac-847e-008cd8d41808",
   "metadata": {},
   "outputs": [
    {
     "name": "stdout",
     "output_type": "stream",
     "text": [
      "+----------------+-------+----------+----------+------+-------+---------+--------------------+--------------------+--------------------+--------------------+--------------+--------------+--------------+\n",
      "|Series_reference| Period|Data_value|Suppressed|STATUS|  UNITS|Magnitude|             Subject|               Group|                ST_1|      Series_title_2|Series_title_3|Series_title_4|Series_title_5|\n",
      "+----------------+-------+----------+----------+------+-------+---------+--------------------+--------------------+--------------------+--------------------+--------------+--------------+--------------+\n",
      "|   BDCQ.SF1AA2CA|2016.06|  1116.386|      NULL|     F|Dollars|        6|Business Data Col...|Industry by finan...|Sales (operating ...|Forestry and Logging|Current prices|    Unadjusted|          NULL|\n",
      "|   BDCQ.SF1AA2CA|2016.09|  1070.874|      NULL|     F|Dollars|        6|Business Data Col...|Industry by finan...|Sales (operating ...|Forestry and Logging|Current prices|    Unadjusted|          NULL|\n",
      "+----------------+-------+----------+----------+------+-------+---------+--------------------+--------------------+--------------------+--------------------+--------------+--------------+--------------+\n",
      "only showing top 2 rows\n",
      "\n"
     ]
    }
   ],
   "source": [
    "df = df.withColumnRenamed('Series_title_1', 'ST_1')\n",
    "df.show(2)"
   ]
  },
  {
   "cell_type": "code",
   "execution_count": 13,
   "id": "26ae8b90-5e16-4bfd-9a33-1fe20f1bfe10",
   "metadata": {},
   "outputs": [
    {
     "name": "stdout",
     "output_type": "stream",
     "text": [
      "+----------------+-------+----------+----------+------+-------+---------+--------------------+--------------------+------------------+--------------------+--------------+--------------+--------------+\n",
      "|Series_reference| Period|Data_value|Suppressed|STATUS|  UNITS|Magnitude|             Subject|               Group|              ST_1|      Series_title_2|Series_title_3|Series_title_4|Series_title_5|\n",
      "+----------------+-------+----------+----------+------+-------+---------+--------------------+--------------------+------------------+--------------------+--------------+--------------+--------------+\n",
      "|   BDCQ.SF8GH2CA|2020.06|  -398.194|      NULL|     F|Dollars|        6|Business Data Col...|Industry by finan...|  Operating profit|Accommodation and...|Current prices|    Unadjusted|          NULL|\n",
      "|   BDCQ.SF8RS2CA|2020.06|     -5.26|      NULL|     F|Dollars|        6|Business Data Col...|Industry by finan...|  Operating profit|      Other Services|Current prices|    Unadjusted|          NULL|\n",
      "|   BDCQ.SF3CC4CA|2016.06|   100.652|      NULL|     F|Dollars|        6|Business Data Col...|Industry by finan...|Salaries and wages|            Printing|Current prices|    Unadjusted|          NULL|\n",
      "|   BDCQ.SF8MN2CA|2019.03|  1001.875|      NULL|     F|Dollars|        6|Business Data Col...|Industry by finan...|  Operating profit|Administrative an...|Current prices|    Unadjusted|          NULL|\n",
      "|   BDCQ.SF8CC5CA|2017.12|  1005.093|      NULL|     F|Dollars|        6|Business Data Col...|Industry by finan...|  Operating profit|Petroleum, Chemic...|Current prices|    Unadjusted|          NULL|\n",
      "+----------------+-------+----------+----------+------+-------+---------+--------------------+--------------------+------------------+--------------------+--------------+--------------+--------------+\n",
      "only showing top 5 rows\n",
      "\n"
     ]
    }
   ],
   "source": [
    "df.sort('Data_value').show(5)"
   ]
  },
  {
   "cell_type": "code",
   "execution_count": 14,
   "id": "fb90ea8f-9c4c-48f8-9a1d-fc18ee486923",
   "metadata": {},
   "outputs": [],
   "source": [
    "from pyspark.sql import functions as F"
   ]
  },
  {
   "cell_type": "code",
   "execution_count": 15,
   "id": "4faf5f13-eaaf-4d7a-b56e-b22b2ab4f71a",
   "metadata": {
    "scrolled": true
   },
   "outputs": [
    {
     "name": "stdout",
     "output_type": "stream",
     "text": [
      "+----------------+-------+----------+----------+------+-------+---------+--------------------+--------------------+--------------------+--------------------+--------------+--------------+--------------+\n",
      "|Series_reference| Period|Data_value|Suppressed|STATUS|  UNITS|Magnitude|             Subject|               Group|                ST_1|      Series_title_2|Series_title_3|Series_title_4|Series_title_5|\n",
      "+----------------+-------+----------+----------+------+-------+---------+--------------------+--------------------+--------------------+--------------------+--------------+--------------+--------------+\n",
      "|   BDCQ.SF3GH2CA|2017.09|   998.124|      NULL|     F|Dollars|        6|Business Data Col...|Industry by finan...|  Salaries and wages|Accommodation and...|Current prices|    Unadjusted|          NULL|\n",
      "|   BDCQ.SF2EE1CA|2018.03|  9979.557|      NULL|     F|Dollars|        6|Business Data Col...|Industry by finan...|Purchases and ope...|        Construction|Current prices|    Unadjusted|          NULL|\n",
      "|   BDCQ.SF3MN2CA|2017.03|   997.972|      NULL|     F|Dollars|        6|Business Data Col...|Industry by finan...|  Salaries and wages|Administrative an...|Current prices|    Unadjusted|          NULL|\n",
      "|   BDCQ.SF8CC1CA|2018.03|   997.046|      NULL|     F|Dollars|        6|Business Data Col...|Industry by finan...|    Operating profit|Food, Beverage an...|Current prices|    Unadjusted|          NULL|\n",
      "|   BDCQ.SF8JJ1CA|2020.03|   991.864|      NULL|     F|Dollars|        6|Business Data Col...|Industry by finan...|    Operating profit|Information Media...|Current prices|    Unadjusted|          NULL|\n",
      "+----------------+-------+----------+----------+------+-------+---------+--------------------+--------------------+--------------------+--------------------+--------------+--------------+--------------+\n",
      "only showing top 5 rows\n",
      "\n"
     ]
    }
   ],
   "source": [
    "df.sort(F.desc('Data_value')).show(5)"
   ]
  },
  {
   "cell_type": "code",
   "execution_count": 16,
   "id": "3dc623a6-d985-49f5-89e0-55d4ec6a3715",
   "metadata": {
    "scrolled": true
   },
   "outputs": [
    {
     "name": "stdout",
     "output_type": "stream",
     "text": [
      "root\n",
      " |-- Series_reference: string (nullable = true)\n",
      " |-- Period: string (nullable = true)\n",
      " |-- Data_value: double (nullable = true)\n",
      " |-- Suppressed: string (nullable = true)\n",
      " |-- STATUS: string (nullable = true)\n",
      " |-- UNITS: string (nullable = true)\n",
      " |-- Magnitude: string (nullable = true)\n",
      " |-- Subject: string (nullable = true)\n",
      " |-- Group: string (nullable = true)\n",
      " |-- ST_1: string (nullable = true)\n",
      " |-- Series_title_2: string (nullable = true)\n",
      " |-- Series_title_3: string (nullable = true)\n",
      " |-- Series_title_4: string (nullable = true)\n",
      " |-- Series_title_5: string (nullable = true)\n",
      "\n"
     ]
    }
   ],
   "source": [
    "# cambiar tipo de columna\n",
    "df = df.withColumn('Data_value', F.col('Data_value').cast(DoubleType()))\n",
    "df.printSchema()"
   ]
  },
  {
   "cell_type": "code",
   "execution_count": 37,
   "id": "687f998e-e2d3-4a3e-b6a5-aec1ded32c48",
   "metadata": {},
   "outputs": [
    {
     "name": "stdout",
     "output_type": "stream",
     "text": [
      "+----------------+-------+----------+----------+------+-------+---------+--------------------+--------------------+--------------------+---------------+--------------+--------------+--------------+----+-----+\n",
      "|Series_reference| Period|Data_value|Suppressed|STATUS|  UNITS|Magnitude|             Subject|               Group|                ST_1| Series_title_2|Series_title_3|Series_title_4|Series_title_5|year|month|\n",
      "+----------------+-------+----------+----------+------+-------+---------+--------------------+--------------------+--------------------+---------------+--------------+--------------+--------------+----+-----+\n",
      "|   BDCQ.SF1FF1CA|2020.12| 30657.717|      NULL|     F|Dollars|        6|Business Data Col...|Industry by finan...|Sales (operating ...|Wholesale Trade|Current prices|    Unadjusted|          NULL|2020|   12|\n",
      "|   BDCQ.SF1FF1CA|2019.12| 29838.982|      NULL|     F|Dollars|        6|Business Data Col...|Industry by finan...|Sales (operating ...|Wholesale Trade|Current prices|    Unadjusted|          NULL|2019|   12|\n",
      "|   BDCQ.SF1FF1CA|2020.09| 29794.725|      NULL|     R|Dollars|        6|Business Data Col...|Industry by finan...|Sales (operating ...|Wholesale Trade|Current prices|    Unadjusted|          NULL|2020|    9|\n",
      "|   BDCQ.SF1FF1CA|2018.12|  29271.97|      NULL|     F|Dollars|        6|Business Data Col...|Industry by finan...|Sales (operating ...|Wholesale Trade|Current prices|    Unadjusted|          NULL|2018|   12|\n",
      "|   BDCQ.SF1FF1CA|2019.09| 28200.644|      NULL|     R|Dollars|        6|Business Data Col...|Industry by finan...|Sales (operating ...|Wholesale Trade|Current prices|    Unadjusted|          NULL|2019|    9|\n",
      "+----------------+-------+----------+----------+------+-------+---------+--------------------+--------------------+--------------------+---------------+--------------+--------------+--------------+----+-----+\n",
      "only showing top 5 rows\n",
      "\n"
     ]
    }
   ],
   "source": [
    "df.sort(F.desc('Data_value')).show(5)"
   ]
  },
  {
   "cell_type": "code",
   "execution_count": 18,
   "id": "5444a47a-b665-479b-ab06-860632b2a55e",
   "metadata": {},
   "outputs": [
    {
     "data": {
      "text/plain": [
       "(1320, 1936)"
      ]
     },
     "execution_count": 18,
     "metadata": {},
     "output_type": "execute_result"
    }
   ],
   "source": [
    "df_filter = df.filter(F.col('Data_value') > 500)\n",
    "df_filter.count(), df.count()"
   ]
  },
  {
   "cell_type": "code",
   "execution_count": 19,
   "id": "cae62d23-c6cc-4ba9-8b57-a44753b97425",
   "metadata": {},
   "outputs": [
    {
     "data": {
      "text/plain": [
       "(20, 1936)"
      ]
     },
     "execution_count": 19,
     "metadata": {},
     "output_type": "execute_result"
    }
   ],
   "source": [
    "df_filter = df.filter( (F.col('Data_value') > 100) &\n",
    "                       (F.col('STATUS') == 'R') )\n",
    "df_filter.count(), df.count()"
   ]
  },
  {
   "cell_type": "code",
   "execution_count": 20,
   "id": "cd2ea40c-fac4-4a89-8655-7802a2ac6c33",
   "metadata": {
    "scrolled": true
   },
   "outputs": [
    {
     "name": "stdout",
     "output_type": "stream",
     "text": [
      "+----------------+-------+----------+----------+------+-------+---------+--------------------+--------------------+--------------------+--------------------+--------------+--------------+--------------+----+-----+\n",
      "|Series_reference| Period|Data_value|Suppressed|STATUS|  UNITS|Magnitude|             Subject|               Group|                ST_1|      Series_title_2|Series_title_3|Series_title_4|Series_title_5|year|month|\n",
      "+----------------+-------+----------+----------+------+-------+---------+--------------------+--------------------+--------------------+--------------------+--------------+--------------+--------------+----+-----+\n",
      "|   BDCQ.SF1AA2CA|2016.06|  1116.386|      NULL|     F|Dollars|        6|Business Data Col...|Industry by finan...|Sales (operating ...|Forestry and Logging|Current prices|    Unadjusted|          NULL|2016|    6|\n",
      "|   BDCQ.SF1AA2CA|2016.09|  1070.874|      NULL|     F|Dollars|        6|Business Data Col...|Industry by finan...|Sales (operating ...|Forestry and Logging|Current prices|    Unadjusted|          NULL|2016|    9|\n",
      "|   BDCQ.SF1AA2CA|2016.12|  1054.408|      NULL|     F|Dollars|        6|Business Data Col...|Industry by finan...|Sales (operating ...|Forestry and Logging|Current prices|    Unadjusted|          NULL|2016|   12|\n",
      "|   BDCQ.SF1AA2CA|2017.03|  1010.665|      NULL|     F|Dollars|        6|Business Data Col...|Industry by finan...|Sales (operating ...|Forestry and Logging|Current prices|    Unadjusted|          NULL|2017|    3|\n",
      "|   BDCQ.SF1AA2CA|2017.06|    1233.7|      NULL|     F|Dollars|        6|Business Data Col...|Industry by finan...|Sales (operating ...|Forestry and Logging|Current prices|    Unadjusted|          NULL|2017|    6|\n",
      "+----------------+-------+----------+----------+------+-------+---------+--------------------+--------------------+--------------------+--------------------+--------------+--------------+--------------+----+-----+\n",
      "only showing top 5 rows\n",
      "\n"
     ]
    }
   ],
   "source": [
    "df = df.withColumn('year', F.split('Period', '\\.')[0].cast(IntegerType()))\n",
    "df = df.withColumn('month', F.split('Period', '\\.')[1].cast(IntegerType()))\n",
    "df.show(5)"
   ]
  },
  {
   "cell_type": "code",
   "execution_count": 28,
   "id": "9729c4b2-59e5-4465-a3ab-cbdabae91e0b",
   "metadata": {},
   "outputs": [
    {
     "name": "stdout",
     "output_type": "stream",
     "text": [
      "+----+------------------+\n",
      "|year|      DataValueSum|\n",
      "+----+------------------+\n",
      "|2016| 650630.5120000006|\n",
      "|2017|1008174.8279999997|\n",
      "|2018|1169600.8130000005|\n",
      "|2019|1218257.8539999994|\n",
      "|2020| 1188871.551000002|\n",
      "+----+------------------+\n",
      "\n"
     ]
    }
   ],
   "source": [
    "agregate_year_df = df.groupBy('year').sum('Data_value').sort('year')\n",
    "agregate_year_df = agregate_year_df.withColumnRenamed('sum(Data_value)', 'DataValueSum')\n",
    "agregate_year_df.show()"
   ]
  },
  {
   "cell_type": "code",
   "execution_count": 29,
   "id": "e2cdd1d1-1c8d-4405-b5a3-feae3a1367fa",
   "metadata": {},
   "outputs": [],
   "source": [
    "agregate_year_pd_df = agregate_year_df.toPandas()"
   ]
  },
  {
   "cell_type": "code",
   "execution_count": 30,
   "id": "1e394b8b-c571-4779-9cf3-801f14ca364d",
   "metadata": {},
   "outputs": [
    {
     "data": {
      "text/html": [
       "<div>\n",
       "<style scoped>\n",
       "    .dataframe tbody tr th:only-of-type {\n",
       "        vertical-align: middle;\n",
       "    }\n",
       "\n",
       "    .dataframe tbody tr th {\n",
       "        vertical-align: top;\n",
       "    }\n",
       "\n",
       "    .dataframe thead th {\n",
       "        text-align: right;\n",
       "    }\n",
       "</style>\n",
       "<table border=\"1\" class=\"dataframe\">\n",
       "  <thead>\n",
       "    <tr style=\"text-align: right;\">\n",
       "      <th></th>\n",
       "      <th>year</th>\n",
       "      <th>DataValueSum</th>\n",
       "    </tr>\n",
       "  </thead>\n",
       "  <tbody>\n",
       "    <tr>\n",
       "      <th>0</th>\n",
       "      <td>2016</td>\n",
       "      <td>650630.512</td>\n",
       "    </tr>\n",
       "    <tr>\n",
       "      <th>1</th>\n",
       "      <td>2017</td>\n",
       "      <td>1008174.828</td>\n",
       "    </tr>\n",
       "    <tr>\n",
       "      <th>2</th>\n",
       "      <td>2018</td>\n",
       "      <td>1169600.813</td>\n",
       "    </tr>\n",
       "    <tr>\n",
       "      <th>3</th>\n",
       "      <td>2019</td>\n",
       "      <td>1218257.854</td>\n",
       "    </tr>\n",
       "    <tr>\n",
       "      <th>4</th>\n",
       "      <td>2020</td>\n",
       "      <td>1188871.551</td>\n",
       "    </tr>\n",
       "  </tbody>\n",
       "</table>\n",
       "</div>"
      ],
      "text/plain": [
       "   year  DataValueSum\n",
       "0  2016    650630.512\n",
       "1  2017   1008174.828\n",
       "2  2018   1169600.813\n",
       "3  2019   1218257.854\n",
       "4  2020   1188871.551"
      ]
     },
     "execution_count": 30,
     "metadata": {},
     "output_type": "execute_result"
    }
   ],
   "source": [
    "agregate_year_pd_df"
   ]
  },
  {
   "cell_type": "code",
   "execution_count": 32,
   "id": "842c0d4b-0ad8-4582-a3dc-301266b0f587",
   "metadata": {},
   "outputs": [
    {
     "data": {
      "image/png": "[encoded data removed]",
      "text/plain": [
       "<Figure size 1000x400 with 1 Axes>"
      ]
     },
     "metadata": {},
     "output_type": "display_data"
    }
   ],
   "source": [
    "agregate_year_pd_df.plot.bar(\n",
    "            x='year', y='DataValueSum',\n",
    "            figsize=(10,4), \n",
    "            color=['black', 'red', 'black', 'red', 'black'],\n",
    "            title='DataValue by years', \n",
    "            xlabel=\"Year\", \n",
    "            ylabel=\"Count\", \n",
    "            fontsize='large'\n",
    "            );"
   ]
  },
  {
   "cell_type": "code",
   "execution_count": 67,
   "id": "ca495357-dd78-4dbd-8aa3-1b1ab63eb499",
   "metadata": {},
   "outputs": [
    {
     "name": "stdout",
     "output_type": "stream",
     "text": [
      "+------+\n",
      "|STATUS|\n",
      "+------+\n",
      "|F     |\n",
      "|R     |\n",
      "+------+\n",
      "\n"
     ]
    }
   ],
   "source": [
    "df.select('STATUS').distinct().show(10, truncate=False)"
   ]
  },
  {
   "cell_type": "code",
   "execution_count": 63,
   "id": "0d1d3d69-9c47-44e2-8904-3793317ba148",
   "metadata": {},
   "outputs": [
    {
     "data": {
      "text/plain": [
       "100"
      ]
     },
     "execution_count": 63,
     "metadata": {},
     "output_type": "execute_result"
    }
   ],
   "source": [
    "df.filter( (F.col('year') == 2017) & (F.col('ST_1') == 'Salaries and wages')).count()"
   ]
  },
  {
   "cell_type": "code",
   "execution_count": 69,
   "id": "70ed1ed3-454b-4935-97ee-4f36638ad578",
   "metadata": {},
   "outputs": [
    {
     "name": "stdout",
     "output_type": "stream",
     "text": [
      "+----+------+-----+\n",
      "|year|STATUS|count|\n",
      "+----+------+-----+\n",
      "|2016|     R|    4|\n",
      "|2016|     F|  284|\n",
      "|2017|     F|  400|\n",
      "|2018|     F|  416|\n",
      "|2019|     F|  413|\n",
      "|2019|     R|    3|\n",
      "|2020|     R|   13|\n",
      "|2020|     F|  403|\n",
      "+----+------+-----+\n",
      "\n"
     ]
    }
   ],
   "source": [
    "sales_status_df = df.groupBy('year','STATUS').count().sort('year')\n",
    "sales_status_df.show()"
   ]
  },
  {
   "cell_type": "code",
   "execution_count": 70,
   "id": "fa1c67e4-3c2c-4ae7-8701-1371e19eb3fa",
   "metadata": {},
   "outputs": [],
   "source": [
    "sales_status_pd_df = sales_status_df.toPandas()"
   ]
  },
  {
   "cell_type": "code",
   "execution_count": 107,
   "id": "454f31f5-d66b-4dd2-bceb-042d058beab4",
   "metadata": {},
   "outputs": [],
   "source": [
    "def get_count_status_by_year(df:DataFrame, year:int, status:str):\n",
    "    try:\n",
    "        count = df[ (df['year'] == year ) & (df['STATUS'] == status) ]['count'].iloc[0]\n",
    "    except:\n",
    "        count = 0\n",
    "    return count"
   ]
  },
  {
   "cell_type": "code",
   "execution_count": 108,
   "id": "d10b2d04-bbb9-4c42-870e-db3e1727318f",
   "metadata": {
    "scrolled": true
   },
   "outputs": [
    {
     "name": "stdout",
     "output_type": "stream",
     "text": [
      "[2016, 2017, 2018, 2019, 2020]\n"
     ]
    },
    {
     "data": {
      "text/plain": [
       "[['year', 'StatusR', 'StatusF'],\n",
       " [2016, 4, 284],\n",
       " [2017, 0, 400],\n",
       " [2018, 0, 416],\n",
       " [2019, 3, 413],\n",
       " [2020, 13, 403]]"
      ]
     },
     "execution_count": 108,
     "metadata": {},
     "output_type": "execute_result"
    }
   ],
   "source": [
    "new_data = [['year', 'StatusR', 'StatusF']]\n",
    "years = list(sales_status_pd_df['year'].unique())\n",
    "print(years)\n",
    "index = 0\n",
    "for year in years:\n",
    "    new_data.append(\n",
    "        [year, \n",
    "         get_count_status_by_year(sales_status_pd_df, year, 'R'),\n",
    "         get_count_status_by_year(sales_status_pd_df, year, 'F')]\n",
    "    )\n",
    "new_data"
   ]
  },
  {
   "cell_type": "code",
   "execution_count": 109,
   "id": "036bd35c-61ca-4ec7-bd98-53c0c633b767",
   "metadata": {},
   "outputs": [
    {
     "data": {
      "text/html": [
       "<div>\n",
       "<style scoped>\n",
       "    .dataframe tbody tr th:only-of-type {\n",
       "        vertical-align: middle;\n",
       "    }\n",
       "\n",
       "    .dataframe tbody tr th {\n",
       "        vertical-align: top;\n",
       "    }\n",
       "\n",
       "    .dataframe thead th {\n",
       "        text-align: right;\n",
       "    }\n",
       "</style>\n",
       "<table border=\"1\" class=\"dataframe\">\n",
       "  <thead>\n",
       "    <tr style=\"text-align: right;\">\n",
       "      <th></th>\n",
       "      <th>year</th>\n",
       "      <th>StatusR</th>\n",
       "      <th>StatusF</th>\n",
       "    </tr>\n",
       "  </thead>\n",
       "  <tbody>\n",
       "    <tr>\n",
       "      <th>0</th>\n",
       "      <td>2016</td>\n",
       "      <td>4</td>\n",
       "      <td>284</td>\n",
       "    </tr>\n",
       "    <tr>\n",
       "      <th>1</th>\n",
       "      <td>2017</td>\n",
       "      <td>0</td>\n",
       "      <td>400</td>\n",
       "    </tr>\n",
       "    <tr>\n",
       "      <th>2</th>\n",
       "      <td>2018</td>\n",
       "      <td>0</td>\n",
       "      <td>416</td>\n",
       "    </tr>\n",
       "    <tr>\n",
       "      <th>3</th>\n",
       "      <td>2019</td>\n",
       "      <td>3</td>\n",
       "      <td>413</td>\n",
       "    </tr>\n",
       "    <tr>\n",
       "      <th>4</th>\n",
       "      <td>2020</td>\n",
       "      <td>13</td>\n",
       "      <td>403</td>\n",
       "    </tr>\n",
       "  </tbody>\n",
       "</table>\n",
       "</div>"
      ],
      "text/plain": [
       "   year  StatusR  StatusF\n",
       "0  2016        4      284\n",
       "1  2017        0      400\n",
       "2  2018        0      416\n",
       "3  2019        3      413\n",
       "4  2020       13      403"
      ]
     },
     "execution_count": 109,
     "metadata": {},
     "output_type": "execute_result"
    }
   ],
   "source": [
    "status_df = pd.DataFrame(new_data[1:], columns=new_data[0])\n",
    "status_df"
   ]
  },
  {
   "cell_type": "code",
   "execution_count": 120,
   "id": "da0e7b26-90c2-4795-9b0d-884c5ae55dd1",
   "metadata": {},
   "outputs": [],
   "source": [
    "from mplcursors import cursor"
   ]
  },
  {
   "cell_type": "code",
   "execution_count": 141,
   "id": "272410bd-b340-49a7-8161-c0971dbad711",
   "metadata": {},
   "outputs": [
    {
     "data": {
      "image/png": "[encoded data removed]",
      "text/plain": [
       "<Figure size 1000x400 with 1 Axes>"
      ]
     },
     "metadata": {},
     "output_type": "display_data"
    }
   ],
   "source": [
    "ax = status_df.plot.bar(\n",
    "            x='year', rot=0,\n",
    "            figsize=(10,4), \n",
    "            color=['red', 'navy'],\n",
    "            title='Status by year', \n",
    "            xlabel=\"Year\", \n",
    "            ylabel=\"Status Count\", \n",
    "            fontsize='large'\n",
    "            );\n",
    "\n",
    "ax.bar_label(ax.containers[0]);\n",
    "ax.bar_label(ax.containers[1]);\n"
   ]
  }
 ],
 "metadata": {
  "kernelspec": {
   "display_name": "Python 3 (ipykernel)",
   "language": "python",
   "name": "python3"
  },
  "language_info": {
   "codemirror_mode": {
    "name": "ipython",
    "version": 3
   },
   "file_extension": ".py",
   "mimetype": "text/x-python",
   "name": "python",
   "nbconvert_exporter": "python",
   "pygments_lexer": "ipython3",
   "version": "3.11.7"
  }
 },
 "nbformat": 4,
 "nbformat_minor": 5
}
